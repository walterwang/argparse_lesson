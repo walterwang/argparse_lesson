{
 "cells": [
  {
   "cell_type": "markdown",
   "metadata": {},
   "source": [
    "# Object Oriented Programming (OOP)"
   ]
  },
  {
   "cell_type": "markdown",
   "metadata": {},
   "source": [
    "Writing code is not just about solving problems on a computer.\n",
    "\n",
    "Writing code is for humans.\n",
    "\n",
    "It's important to write code that *everyone* can understand. \n",
    "To help communicate your ideas, and so that others can build on your work, but also it will help your own reasoning by using established patterns.\n",
    "\n",
    "\n",
    "Object Oriented Programming will help you do that.\n",
    "\n"
   ]
  },
  {
   "cell_type": "markdown",
   "metadata": {},
   "source": [
    "## Classes"
   ]
  },
  {
   "cell_type": "code",
   "execution_count": null,
   "metadata": {},
   "outputs": [],
   "source": [
    "class HelloWorld: # class names are in CamelCase\n",
    "    def __init__(self):\n",
    "        ...\n",
    "        \n",
    "    def func(self):\n",
    "        pass\n",
    "        "
   ]
  },
  {
   "cell_type": "markdown",
   "metadata": {},
   "source": [
    "### Observer Pattern"
   ]
  },
  {
   "cell_type": "code",
   "execution_count": null,
   "metadata": {},
   "outputs": [],
   "source": [
    "from ABCmetaclass import AbstractClass\n",
    "\n",
    "class listener_interface(AbstractClass):\n",
    "    def notifiy(self):\n",
    "        ...\n",
    "\n",
    "class observer:\n",
    "    def __init__(self):\n",
    "        pass\n",
    "    def add_listeners(self, listener):\n",
    "        self.listener_list.append(listener)\n",
    "    def watch(self):\n",
    "        while True:\n",
    "            if something_happened:\n",
    "                for listener in self.listener_list:\n",
    "                    listener.notified()\n",
    "\n",
    "class listener(listener_interface):\n",
    "    def __init__(self):\n",
    "        pass\n",
    "    \n",
    "    def notified(self):\n",
    "        ..."
   ]
  }
 ],
 "metadata": {
  "kernelspec": {
   "display_name": "Python 3",
   "language": "python",
   "name": "python3"
  },
  "language_info": {
   "codemirror_mode": {
    "name": "ipython",
    "version": 3
   },
   "file_extension": ".py",
   "mimetype": "text/x-python",
   "name": "python",
   "nbconvert_exporter": "python",
   "pygments_lexer": "ipython3",
   "version": "3.6.5"
  }
 },
 "nbformat": 4,
 "nbformat_minor": 2
}
