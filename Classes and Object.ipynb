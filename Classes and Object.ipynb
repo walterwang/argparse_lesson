{
 "cells": [
  {
   "cell_type": "markdown",
   "metadata": {},
   "source": [
    "# Object Oriented Programming (OOP)"
   ]
  },
  {
   "cell_type": "markdown",
   "metadata": {},
   "source": [
    "Writing code is not just about solving problems on a computer.\n",
    "\n",
    "Writing code is for humans.\n",
    "\n",
    "It's important to write code that *everyone* can understand. \n",
    "To help communicate your ideas, and so that others can build on your work, but also it will help your own reasoning by using established patterns.\n",
    "\n",
    "\n",
    "Object Oriented Programming will help you do that.\n",
    "\n"
   ]
  },
  {
   "cell_type": "markdown",
   "metadata": {},
   "source": [
    "## Classes"
   ]
  },
  {
   "cell_type": "code",
   "execution_count": 22,
   "metadata": {},
   "outputs": [],
   "source": [
    "class HelloWorld: # class names are in CamelCase\n",
    "        \n",
    "    def print_message(self, msg):\n",
    "        print(msg)\n",
    "        \n",
    "    def foo():\n",
    "        ..."
   ]
  },
  {
   "cell_type": "code",
   "execution_count": 26,
   "metadata": {},
   "outputs": [],
   "source": [
    "hello = HelloWorld()\n",
    "world = HelloWorld()"
   ]
  },
  {
   "cell_type": "markdown",
   "metadata": {},
   "source": [
    "hello and world are objects created from the HelloWorld class. An object is an instance of a class. when you call HelloWorld() you are making an object out of the class.\n"
   ]
  },
  {
   "cell_type": "code",
   "execution_count": 27,
   "metadata": {},
   "outputs": [
    {
     "name": "stdout",
     "output_type": "stream",
     "text": [
      "hello\n",
      "world\n"
     ]
    }
   ],
   "source": [
    "hello.print_message('hello')\n",
    "world.print_message('world')"
   ]
  },
  {
   "cell_type": "markdown",
   "metadata": {},
   "source": [
    "The class has a function print_message(), the self parameter refers to the object.\n",
    "\n",
    "### What is self?\n",
    "\n",
    "When a function is called from an object, the first parameter is always reserved for itself. \n",
    "\n",
    "what this means is when you call print_message from the object hello, \n",
    "you are actually essentially doing \"hello.print_message(*the_object_itself, 'hello')\n",
    "\n",
    "for example:"
   ]
  },
  {
   "cell_type": "code",
   "execution_count": 30,
   "metadata": {},
   "outputs": [
    {
     "ename": "TypeError",
     "evalue": "foo() takes 0 positional arguments but 1 was given",
     "output_type": "error",
     "traceback": [
      "\u001b[0;31m---------------------------------------------------------------------------\u001b[0m",
      "\u001b[0;31mTypeError\u001b[0m                                 Traceback (most recent call last)",
      "\u001b[0;32m<ipython-input-30-b9acc566d67a>\u001b[0m in \u001b[0;36m<module>\u001b[0;34m()\u001b[0m\n\u001b[0;32m----> 1\u001b[0;31m \u001b[0mhello\u001b[0m\u001b[0;34m.\u001b[0m\u001b[0mfoo\u001b[0m\u001b[0;34m(\u001b[0m\u001b[0;34m)\u001b[0m\u001b[0;34m\u001b[0m\u001b[0m\n\u001b[0m",
      "\u001b[0;31mTypeError\u001b[0m: foo() takes 0 positional arguments but 1 was given"
     ]
    }
   ],
   "source": [
    "hello.foo()"
   ]
  },
  {
   "cell_type": "markdown",
   "metadata": {},
   "source": [
    "This implicit argument is itself, so always include self for functions that you want your objects to call. Can you fix the function foo?"
   ]
  },
  {
   "cell_type": "markdown",
   "metadata": {},
   "source": [
    "### Exercise 1: Write a class called shapes and make a rectangle and a square object. "
   ]
  },
  {
   "cell_type": "code",
   "execution_count": null,
   "metadata": {},
   "outputs": [],
   "source": [
    "# write a class called shape, and include a useful function for shape \n",
    "# that applies to both rectangle and circle"
   ]
  },
  {
   "cell_type": "code",
   "execution_count": 19,
   "metadata": {},
   "outputs": [
    {
     "data": {
      "text/plain": [
       "'\\n    answer below \\n'"
      ]
     },
     "execution_count": 19,
     "metadata": {},
     "output_type": "execute_result"
    }
   ],
   "source": [
    "'''\n",
    "     explanation below \n",
    "'''\n",
    " \n",
    " \n",
    " \n",
    " \n",
    " \n",
    " \n",
    " \n",
    " \n",
    " \n",
    " \n",
    " \n",
    " \n",
    " \n",
    " \n",
    " \n",
    " \n",
    " "
   ]
  },
  {
   "cell_type": "code",
   "execution_count": 34,
   "metadata": {},
   "outputs": [],
   "source": [
    "class Shape:\n",
    "    def __init__(self, length, height):\n",
    "        self.length = length\n",
    "        self.height = height\n",
    "        \n",
    "    def get_area(self):\n",
    "        return self.length * self.height\n",
    "    \n",
    "    def get_perimeter(self):\n",
    "        ...\n",
    "\n",
    "square = Shape(4, 4)\n",
    "rectangle = Shape(4, 6)"
   ]
  },
  {
   "cell_type": "markdown",
   "metadata": {},
   "source": [
    "square.get_area()"
   ]
  },
  {
   "cell_type": "markdown",
   "metadata": {},
   "source": [
    "`__init__` is a constructor. When an object is created, the `__init__` function is called. Parameters passed to the class, are passed to the constructor.\n",
    "\n",
    "Functions wrapped by double underscore are magic methods in python. There are a lot of awesome ones. If you feel very ambitious, read up on @property and refactor Shape so that when length and height are changed the area and perimeter properties are changed automatically. "
   ]
  },
  {
   "cell_type": "markdown",
   "metadata": {},
   "source": [
    "### Exercise 2: fill out the get_perimeter function"
   ]
  },
  {
   "cell_type": "code",
   "execution_count": null,
   "metadata": {},
   "outputs": [],
   "source": []
  },
  {
   "cell_type": "markdown",
   "metadata": {},
   "source": [
    "### Exercise 3: \n",
    "Create a parking garage class, include functions for storing a car, retrieving a car and getting the count of cars in the garage."
   ]
  },
  {
   "cell_type": "markdown",
   "metadata": {},
   "source": [
    "## Design Patterns\n",
    "\n",
    "'Design Patterns are resusable solution to a common problem'\n",
    "-wiki\n",
    "\n"
   ]
  },
  {
   "cell_type": "markdown",
   "metadata": {},
   "source": [
    "### Observer Pattern\n",
    "\n",
    "\"Observer pattern is used when there is one-to-many relationship between objects such as if one object is modified, its depenedent objects are to be notified automatically.\" \n",
    "\n",
    "Auctions are examples of this, where an auctioneer is responsible to update prices of new bids to bidders, and notify the winner."
   ]
  },
  {
   "cell_type": "markdown",
   "metadata": {},
   "source": [
    "https://sourcemaking.com/files/v2/content/patterns/Observer_example1-2x.png"
   ]
  },
  {
   "cell_type": "code",
   "execution_count": 65,
   "metadata": {},
   "outputs": [],
   "source": [
    "class Auctioneer:\n",
    "    def __init__(self):\n",
    "        self.bidder_list = []\n",
    "        \n",
    "    def add_bidder(self, bidder):\n",
    "        self.bidder_list.append(bidder)\n",
    "    \n",
    "    def find_max_bidder(self):\n",
    "        max_bid = 0\n",
    "        for bidder in self.bidder_list:\n",
    "            if bidder.bid > max_bid:\n",
    "                max_bid = bidder.bid\n",
    "                self.winner = bidder\n",
    "                \n",
    "    def notify(self):\n",
    "        for bidder in self.bidder_list:\n",
    "            bidder.notify_new_bid(self.winner)\n",
    "    \n",
    "    def start(self):\n",
    "        self.find_max_bidder()\n",
    "        self.notify()\n",
    "            \n",
    "class Bidder:\n",
    "    def __init__(self, name, bid):\n",
    "        self.name = name \n",
    "        self.bid = bid\n",
    "        \n",
    "    def notify_new_bid(self, winner):\n",
    "        if self is winner:\n",
    "            print(self.name, 'won the auction')\n",
    "        else:\n",
    "            print(self.name, 'lost the auction')\n",
    "            "
   ]
  },
  {
   "cell_type": "code",
   "execution_count": 66,
   "metadata": {},
   "outputs": [],
   "source": [
    "bidder1 = Bidder('Joe', 100)\n",
    "bidder2 = Bidder('Jane', 120)\n",
    "\n",
    "\n",
    "auctioneer = Auctioneer()\n",
    "auctioneer.add_bidder(bidder1)\n",
    "auctioneer.add_bidder(bidder2)\n"
   ]
  },
  {
   "cell_type": "code",
   "execution_count": 67,
   "metadata": {},
   "outputs": [
    {
     "name": "stdout",
     "output_type": "stream",
     "text": [
      "Joe lost the auction\n",
      "Jane won the auction\n"
     ]
    }
   ],
   "source": [
    "auctioneer.start()"
   ]
  },
  {
   "cell_type": "markdown",
   "metadata": {},
   "source": [
    "### Homework:\n",
    "\n",
    "1) Add a function to remove bidder by name, assume names are unique. \n",
    "\n",
    "2) Who wins when there is a tiebreak? Add some logic to determine tie breakers\n",
    "\n",
    "3) Change the class so that bidder have a chance to increase their bids when they are outbid\n",
    "\n",
    "\n"
   ]
  }
 ],
 "metadata": {
  "kernelspec": {
   "display_name": "Python 3",
   "language": "python",
   "name": "python3"
  }
 },
 "nbformat": 4,
 "nbformat_minor": 2
}
